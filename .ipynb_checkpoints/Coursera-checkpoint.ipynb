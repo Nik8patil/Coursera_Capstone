{
 "cells": [
  {
   "cell_type": "markdown",
   "metadata": {},
   "source": [
    "# Notebook for Coursera Capstone Project."
   ]
  },
  {
   "cell_type": "code",
   "execution_count": 1,
   "metadata": {},
   "outputs": [],
   "source": [
    "# Importing Libraries\n",
    "import pandas as pd\n",
    "import numpy as np"
   ]
  },
  {
   "cell_type": "code",
   "execution_count": 2,
   "metadata": {},
   "outputs": [
    {
     "name": "stdout",
     "output_type": "stream",
     "text": [
      "Hello Capstone Project Course!\n"
     ]
    }
   ],
   "source": [
    "print('Hello Capstone Project Course!')"
   ]
  },
  {
   "cell_type": "markdown",
   "metadata": {},
   "source": [
    "# Coursera Capstone Project\n",
    "## Finding similar regions in Indian Cities (Mumbai, Chennai & Bengluru)\n",
    "Identifying & Clustering regions in above three cities to find areas which share silmilarity based on number of popular venues (Types of Restaurants, Stores, Tourist Destinations etc)"
   ]
  },
  {
   "cell_type": "markdown",
   "metadata": {},
   "source": [
    "# Introduction\n",
    "\n",
    "In last decade, cities in India have developed at astonishing rate. With developing cities House pricing also goes up. If a resident in one city wants to relocate to different city or neighbourhood, which city/neighbourhood should he choose that is most similar to his current neighbourhood. This project will try to answer this question. We will base our similarity on a kind of Blueprint for neighbourhoods based on popular venues such as Restaurants, Malls, Natural Areas, Tourist Destinations etc.\n",
    "\n",
    "Audience of this project might include Home Buyers or Renters, Real Estate Agents. Also this project might be helpful to those who are looking to open new Businesses to find appropriate locations to open their news business."
   ]
  },
  {
   "cell_type": "markdown",
   "metadata": {},
   "source": [
    "# Data\n",
    "\n",
    "To complete this project we will require data including names of neighbourhoods in Mumbai, Chennai & Bengluru. With popular venues for each neighbourhood, along with location data which should include Latitude & Longitude. \n",
    "\n",
    "To get neighbourhoods names we'll have to scrape Wikipedia pages. To find venues we'll use Foursquare API (Venue Recommendation), & for Location data we'll use Mapquest API for cities where location data is not available from Wikipedia Page."
   ]
  },
  {
   "cell_type": "code",
   "execution_count": null,
   "metadata": {},
   "outputs": [],
   "source": []
  }
 ],
 "metadata": {
  "kernelspec": {
   "display_name": "Python 3",
   "language": "python",
   "name": "python3"
  },
  "language_info": {
   "codemirror_mode": {
    "name": "ipython",
    "version": 3
   },
   "file_extension": ".py",
   "mimetype": "text/x-python",
   "name": "python",
   "nbconvert_exporter": "python",
   "pygments_lexer": "ipython3",
   "version": "3.7.4"
  }
 },
 "nbformat": 4,
 "nbformat_minor": 2
}
